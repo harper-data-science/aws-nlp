{
 "cells": [
  {
   "cell_type": "markdown",
   "metadata": {},
   "source": [
    "![MLU Logo](../data/MLU_Logo.png)"
   ]
  },
  {
   "cell_type": "markdown",
   "metadata": {},
   "source": [
    "# <a name=\"0\">Machine Learning Accelerator - Natural Language Processing - Lecture 2</a>\n",
    "\n",
    "## Linear Regression Models and Regularization\n",
    "\n",
    "In this notebook, we go over Linear Regression methods (with and without regularization: LinearRegression, Ridge, Lasso, ElasticNet) to predict the __log_votes__ field of our review dataset. \n",
    "\n",
    "1. <a href=\"#1\">Reading the dataset</a>\n",
    "2. <a href=\"#2\">Exploratory data analysis</a>\n",
    "3. <a href=\"#3\">Stop word removal and stemming</a>\n",
    "4. <a href=\"#4\">Train - Validation Split</a>\n",
    "5. <a href=\"#5\">Data processing with Pipeline and ColumnTransform</a>\n",
    "6. <a href=\"#6\">Train the regressor</a>\n",
    "7. <a href=\"#7\">Fitting Linear Regression models and checking the validation performance</a> Find more details on the classical Linear Regression models with and without regularization here: https://scikit-learn.org/stable/modules/classes.html#module-sklearn.linear_model\n",
    "8. <a href=\"#8\">Ideas for improvement</a>\n",
    "\n",
    "Overall dataset schema:\n",
    "* __reviewText:__ Text of the review\n",
    "* __summary:__ Summary of the review\n",
    "* __verified:__ Whether the purchase was verified (True or False)\n",
    "* __time:__ UNIX timestamp for the review\n",
    "* __rating:__ Rating of the review\n",
    "* __log_votes:__ Logarithm-adjusted votes log(1+votes)\n"
   ]
  },
  {
   "cell_type": "code",
   "execution_count": 1,
   "metadata": {},
   "outputs": [
    {
     "name": "stdout",
     "output_type": "stream",
     "text": [
      "Note: you may need to restart the kernel to use updated packages.\n"
     ]
    }
   ],
   "source": [
    "%pip install -q -r ../requirements.txt"
   ]
  },
  {
   "cell_type": "markdown",
   "metadata": {},
   "source": [
    "## 1. <a name=\"1\">Reading the dataset</a>\n",
    "(<a href=\"#0\">Go to top</a>)\n",
    "\n",
    "We will use the __pandas__ library to read our dataset."
   ]
  },
  {
   "cell_type": "code",
   "execution_count": 2,
   "metadata": {},
   "outputs": [
    {
     "data": {
      "text/html": [
       "<div>\n",
       "<style scoped>\n",
       "    .dataframe tbody tr th:only-of-type {\n",
       "        vertical-align: middle;\n",
       "    }\n",
       "\n",
       "    .dataframe tbody tr th {\n",
       "        vertical-align: top;\n",
       "    }\n",
       "\n",
       "    .dataframe thead th {\n",
       "        text-align: right;\n",
       "    }\n",
       "</style>\n",
       "<table border=\"1\" class=\"dataframe\">\n",
       "  <thead>\n",
       "    <tr style=\"text-align: right;\">\n",
       "      <th></th>\n",
       "      <th>reviewText</th>\n",
       "      <th>summary</th>\n",
       "      <th>verified</th>\n",
       "      <th>time</th>\n",
       "      <th>rating</th>\n",
       "      <th>log_votes</th>\n",
       "    </tr>\n",
       "  </thead>\n",
       "  <tbody>\n",
       "    <tr>\n",
       "      <th>0</th>\n",
       "      <td>Stuck with this at work, slow and we still got...</td>\n",
       "      <td>Use SEP or Mcafee</td>\n",
       "      <td>False</td>\n",
       "      <td>1464739200</td>\n",
       "      <td>1.0</td>\n",
       "      <td>0.0</td>\n",
       "    </tr>\n",
       "    <tr>\n",
       "      <th>1</th>\n",
       "      <td>I use parallels every day with both my persona...</td>\n",
       "      <td>Use it daily</td>\n",
       "      <td>False</td>\n",
       "      <td>1332892800</td>\n",
       "      <td>5.0</td>\n",
       "      <td>0.0</td>\n",
       "    </tr>\n",
       "    <tr>\n",
       "      <th>2</th>\n",
       "      <td>Barbara Robbins\\n\\nI've used TurboTax to do ou...</td>\n",
       "      <td>Helpful Product</td>\n",
       "      <td>True</td>\n",
       "      <td>1398816000</td>\n",
       "      <td>4.0</td>\n",
       "      <td>0.0</td>\n",
       "    </tr>\n",
       "    <tr>\n",
       "      <th>3</th>\n",
       "      <td>I have been using this software security for y...</td>\n",
       "      <td>Five Stars</td>\n",
       "      <td>True</td>\n",
       "      <td>1430784000</td>\n",
       "      <td>5.0</td>\n",
       "      <td>0.0</td>\n",
       "    </tr>\n",
       "    <tr>\n",
       "      <th>4</th>\n",
       "      <td>If you want your computer hijacked and slowed ...</td>\n",
       "      <td>... hijacked and slowed to a crawl Windows 10 ...</td>\n",
       "      <td>False</td>\n",
       "      <td>1508025600</td>\n",
       "      <td>1.0</td>\n",
       "      <td>0.0</td>\n",
       "    </tr>\n",
       "  </tbody>\n",
       "</table>\n",
       "</div>"
      ],
      "text/plain": [
       "                                          reviewText  \\\n",
       "0  Stuck with this at work, slow and we still got...   \n",
       "1  I use parallels every day with both my persona...   \n",
       "2  Barbara Robbins\\n\\nI've used TurboTax to do ou...   \n",
       "3  I have been using this software security for y...   \n",
       "4  If you want your computer hijacked and slowed ...   \n",
       "\n",
       "                                             summary  verified        time  \\\n",
       "0                                  Use SEP or Mcafee     False  1464739200   \n",
       "1                                       Use it daily     False  1332892800   \n",
       "2                                    Helpful Product      True  1398816000   \n",
       "3                                         Five Stars      True  1430784000   \n",
       "4  ... hijacked and slowed to a crawl Windows 10 ...     False  1508025600   \n",
       "\n",
       "   rating  log_votes  \n",
       "0     1.0        0.0  \n",
       "1     5.0        0.0  \n",
       "2     4.0        0.0  \n",
       "3     5.0        0.0  \n",
       "4     1.0        0.0  "
      ]
     },
     "execution_count": 2,
     "metadata": {},
     "output_type": "execute_result"
    }
   ],
   "source": [
    "import pandas as pd\n",
    "\n",
    "df = pd.read_csv('../data/examples/AMAZON-REVIEW-DATA-REGRESSION.csv')\n",
    "df.head()"
   ]
  },
  {
   "cell_type": "markdown",
   "metadata": {},
   "source": [
    "Let's look at the first five rows in the dataset. As you can see the __log_votes__ field is numeric. That's why we will build a regression model."
   ]
  },
  {
   "cell_type": "markdown",
   "metadata": {},
   "source": [
    "## 2. <a name=\"2\">Exploratory data analysis</a>\n",
    "(<a href=\"#0\">Go to top</a>)"
   ]
  },
  {
   "cell_type": "markdown",
   "metadata": {},
   "source": [
    "Let's look at the range and distribution of log_votes"
   ]
  },
  {
   "cell_type": "code",
   "execution_count": 3,
   "metadata": {},
   "outputs": [
    {
     "data": {
      "text/plain": [
       "0.0"
      ]
     },
     "execution_count": 3,
     "metadata": {},
     "output_type": "execute_result"
    }
   ],
   "source": [
    "df[\"log_votes\"].min()"
   ]
  },
  {
   "cell_type": "code",
   "execution_count": 4,
   "metadata": {},
   "outputs": [
    {
     "data": {
      "text/plain": [
       "7.799753318287247"
      ]
     },
     "execution_count": 4,
     "metadata": {},
     "output_type": "execute_result"
    }
   ],
   "source": [
    "df[\"log_votes\"].max()"
   ]
  },
  {
   "cell_type": "code",
   "execution_count": 5,
   "metadata": {},
   "outputs": [
    {
     "data": {
      "image/png": "[encoded data removed]",
      "text/plain": [
       "<Figure size 432x288 with 1 Axes>"
      ]
     },
     "metadata": {
      "needs_background": "light"
     },
     "output_type": "display_data"
    }
   ],
   "source": [
    "%matplotlib inline\n",
    "import matplotlib.pyplot as plt\n",
    "\n",
    "df[\"log_votes\"].plot.hist()\n",
    "plt.show()"
   ]
  },
  {
   "cell_type": "markdown",
   "metadata": {},
   "source": [
    "We can check the number of missing values for each columm below."
   ]
  },
  {
   "cell_type": "code",
   "execution_count": 6,
   "metadata": {},
   "outputs": [
    {
     "name": "stdout",
     "output_type": "stream",
     "text": [
      "reviewText    6\n",
      "summary       7\n",
      "verified      0\n",
      "time          0\n",
      "rating        0\n",
      "log_votes     0\n",
      "dtype: int64\n"
     ]
    }
   ],
   "source": [
    "print(df.isna().sum())"
   ]
  },
  {
   "cell_type": "markdown",
   "metadata": {},
   "source": [
    "## 3. <a name=\"3\">Text Processing: Stop words removal and stemming</a>\n",
    "(<a href=\"#0\">Go to top</a>)"
   ]
  },
  {
   "cell_type": "code",
   "execution_count": 7,
   "metadata": {},
   "outputs": [
    {
     "name": "stderr",
     "output_type": "stream",
     "text": [
      "[nltk_data] Downloading package punkt to /home/ec2-user/nltk_data...\n",
      "[nltk_data]   Package punkt is already up-to-date!\n",
      "[nltk_data] Downloading package stopwords to\n",
      "[nltk_data]     /home/ec2-user/nltk_data...\n",
      "[nltk_data]   Package stopwords is already up-to-date!\n"
     ]
    },
    {
     "data": {
      "text/plain": [
       "True"
      ]
     },
     "execution_count": 7,
     "metadata": {},
     "output_type": "execute_result"
    }
   ],
   "source": [
    "# Install the library and functions\n",
    "import nltk\n",
    "\n",
    "nltk.download('punkt')\n",
    "nltk.download('stopwords')"
   ]
  },
  {
   "cell_type": "markdown",
   "metadata": {},
   "source": [
    "We will create the stop word removal and text cleaning processes below. NLTK library provides a list of common stop words. We will use the list, but remove some of the words from that list (because those words are actually useful to understand the sentiment in the sentence)."
   ]
  },
  {
   "cell_type": "code",
   "execution_count": 8,
   "metadata": {},
   "outputs": [],
   "source": [
    "import nltk, re\n",
    "from nltk.corpus import stopwords\n",
    "from nltk.stem import SnowballStemmer\n",
    "from nltk.tokenize import word_tokenize\n",
    "\n",
    "# Let's get a list of stop words from the NLTK library\n",
    "stop = stopwords.words('english')\n",
    "\n",
    "# These words are important for our problem. We don't want to remove them.\n",
    "excluding = ['against', 'not', 'don', \"don't\",'ain', 'aren', \"aren't\", 'couldn', \"couldn't\",\n",
    "             'didn', \"didn't\", 'doesn', \"doesn't\", 'hadn', \"hadn't\", 'hasn', \"hasn't\", \n",
    "             'haven', \"haven't\", 'isn', \"isn't\", 'mightn', \"mightn't\", 'mustn', \"mustn't\",\n",
    "             'needn', \"needn't\",'shouldn', \"shouldn't\", 'wasn', \"wasn't\", 'weren', \n",
    "             \"weren't\", 'won', \"won't\", 'wouldn', \"wouldn't\"]\n",
    "\n",
    "# New stop word list\n",
    "stop_words = [word for word in stop if word not in excluding]\n",
    "\n",
    "snow = SnowballStemmer('english')\n",
    "\n",
    "def process_text(texts): \n",
    "    final_text_list=[]\n",
    "    for sent in texts:\n",
    "        \n",
    "        # Check if the sentence is a missing value\n",
    "        if isinstance(sent, str) == False:\n",
    "            sent = \"\"\n",
    "            \n",
    "        filtered_sentence=[]\n",
    "        \n",
    "        sent = sent.lower() # Lowercase \n",
    "        sent = sent.strip() # Remove leading/trailing whitespace\n",
    "        sent = re.sub('\\s+', ' ', sent) # Remove extra space and tabs\n",
    "        sent = re.compile('<.*?>').sub('', sent) # Remove HTML tags/markups:\n",
    "        \n",
    "        for w in word_tokenize(sent):\n",
    "            # We are applying some custom filtering here, feel free to try different things\n",
    "            # Check if it is not numeric and its length>2 and not in stop words\n",
    "            if(not w.isnumeric()) and (len(w)>2) and (w not in stop_words):  \n",
    "                # Stem and add to filtered list\n",
    "                filtered_sentence.append(snow.stem(w))\n",
    "        final_string = \" \".join(filtered_sentence) #final string of cleaned words\n",
    " \n",
    "        final_text_list.append(final_string)\n",
    "        \n",
    "    return final_text_list"
   ]
  },
  {
   "cell_type": "markdown",
   "metadata": {},
   "source": [
    "## 4. <a name=\"4\">Train - Validation Split</a>\n",
    "(<a href=\"#0\">Go to top</a>)\n",
    "\n",
    "Let's split our dataset into training (90%) and validation (10%). We will use \"reviewText\", \"summary\", \"time\", \"rating\" fields and predict the \"log_votes\" field."
   ]
  },
  {
   "cell_type": "code",
   "execution_count": 9,
   "metadata": {},
   "outputs": [],
   "source": [
    "from sklearn.model_selection import train_test_split\n",
    "\n",
    "\n",
    "X_train, X_val, y_train, y_val = train_test_split(df[[\"reviewText\", \"summary\", \"time\", \"rating\"]],\n",
    "                                                  df[\"log_votes\"],\n",
    "                                                  test_size=0.10,\n",
    "                                                  shuffle=True,\n",
    "                                                  random_state=324\n",
    "                                                 )"
   ]
  },
  {
   "cell_type": "code",
   "execution_count": 10,
   "metadata": {},
   "outputs": [
    {
     "name": "stdout",
     "output_type": "stream",
     "text": [
      "Processing the reviewText fields\n",
      "Processing the summary fields\n"
     ]
    }
   ],
   "source": [
    "print(\"Processing the reviewText fields\")\n",
    "X_train[\"reviewText\"] = process_text(X_train[\"reviewText\"].tolist())\n",
    "X_val[\"reviewText\"] = process_text(X_val[\"reviewText\"].tolist())\n",
    "\n",
    "print(\"Processing the summary fields\")\n",
    "X_train[\"summary\"] = process_text(X_train[\"summary\"].tolist())\n",
    "X_val[\"summary\"] = process_text(X_val[\"summary\"].tolist())"
   ]
  },
  {
   "cell_type": "markdown",
   "metadata": {},
   "source": [
    "Our __process_text()__ method in section 3 uses empty string for missing values."
   ]
  },
  {
   "cell_type": "markdown",
   "metadata": {},
   "source": [
    "## 5. <a name=\"5\">Data processing with Pipeline and ColumnTransform</a>\n",
    "(<a href=\"#0\">Go to top</a>)\n",
    "\n",
    "In the previous examples, we have seen how to use pipeline to prepare a data field for our machine learning model. This time, we will focus on multiple fields: numeric and text fields. We are using linear regression model from Sklearn: https://scikit-learn.org/stable/modules/classes.html#module-sklearn.linear_model. \n",
    "\n",
    "   * For the numerical features pipeline, the __numerical_processor__ below, we use a MinMaxScaler (don't have to scale features when using Decision Trees, but it's a good idea to see how to use more data transforms). If different processing is desired for different numerical features, different pipelines should be built - just like shown below for the two text features.\n",
    "   * For the numerical features pipeline, the __text_processor__ below, we use CountVectorizer() for the text fields.\n",
    "   \n",
    "The selective preparations of the dataset features are then put together into a collective ColumnTransformer, to be finally used in a Pipeline along with an estimator. This ensures that the transforms are performed automatically on the raw data when fitting the model and when making predictions, such as when evaluating the model on a validation dataset via cross-validation or making predictions on a test dataset in the future."
   ]
  },
  {
   "cell_type": "code",
   "execution_count": 11,
   "metadata": {},
   "outputs": [],
   "source": [
    "# Grab model features/inputs and target/output\n",
    "numerical_features = ['time',\n",
    "                      'rating']\n",
    "\n",
    "text_features = ['summary',\n",
    "                 'reviewText']\n",
    "\n",
    "model_features = numerical_features + text_features\n",
    "model_target = 'log_votes'"
   ]
  },
  {
   "cell_type": "code",
   "execution_count": 12,
   "metadata": {},
   "outputs": [
    {
     "data": {
      "text/html": [
       "<style>#sk-41effcfe-5c0c-4e59-b88e-801af0fd880c {color: black;background-color: white;}#sk-41effcfe-5c0c-4e59-b88e-801af0fd880c pre{padding: 0;}#sk-41effcfe-5c0c-4e59-b88e-801af0fd880c div.sk-toggleable {background-color: white;}#sk-41effcfe-5c0c-4e59-b88e-801af0fd880c label.sk-toggleable__label {cursor: pointer;display: block;width: 100%;margin-bottom: 0;padding: 0.2em 0.3em;box-sizing: border-box;text-align: center;}#sk-41effcfe-5c0c-4e59-b88e-801af0fd880c div.sk-toggleable__content {max-height: 0;max-width: 0;overflow: hidden;text-align: left;background-color: #f0f8ff;}#sk-41effcfe-5c0c-4e59-b88e-801af0fd880c div.sk-toggleable__content pre {margin: 0.2em;color: black;border-radius: 0.25em;background-color: #f0f8ff;}#sk-41effcfe-5c0c-4e59-b88e-801af0fd880c input.sk-toggleable__control:checked~div.sk-toggleable__content {max-height: 200px;max-width: 100%;overflow: auto;}#sk-41effcfe-5c0c-4e59-b88e-801af0fd880c div.sk-estimator input.sk-toggleable__control:checked~label.sk-toggleable__label {background-color: #d4ebff;}#sk-41effcfe-5c0c-4e59-b88e-801af0fd880c div.sk-label input.sk-toggleable__control:checked~label.sk-toggleable__label {background-color: #d4ebff;}#sk-41effcfe-5c0c-4e59-b88e-801af0fd880c input.sk-hidden--visually {border: 0;clip: rect(1px 1px 1px 1px);clip: rect(1px, 1px, 1px, 1px);height: 1px;margin: -1px;overflow: hidden;padding: 0;position: absolute;width: 1px;}#sk-41effcfe-5c0c-4e59-b88e-801af0fd880c div.sk-estimator {font-family: monospace;background-color: #f0f8ff;margin: 0.25em 0.25em;border: 1px dotted black;border-radius: 0.25em;box-sizing: border-box;}#sk-41effcfe-5c0c-4e59-b88e-801af0fd880c div.sk-estimator:hover {background-color: #d4ebff;}#sk-41effcfe-5c0c-4e59-b88e-801af0fd880c div.sk-parallel-item::after {content: \"\";width: 100%;border-bottom: 1px solid gray;flex-grow: 1;}#sk-41effcfe-5c0c-4e59-b88e-801af0fd880c div.sk-label:hover label.sk-toggleable__label {background-color: #d4ebff;}#sk-41effcfe-5c0c-4e59-b88e-801af0fd880c div.sk-serial::before {content: \"\";position: absolute;border-left: 1px solid gray;box-sizing: border-box;top: 2em;bottom: 0;left: 50%;}#sk-41effcfe-5c0c-4e59-b88e-801af0fd880c div.sk-serial {display: flex;flex-direction: column;align-items: center;background-color: white;}#sk-41effcfe-5c0c-4e59-b88e-801af0fd880c div.sk-item {z-index: 1;}#sk-41effcfe-5c0c-4e59-b88e-801af0fd880c div.sk-parallel {display: flex;align-items: stretch;justify-content: center;background-color: white;}#sk-41effcfe-5c0c-4e59-b88e-801af0fd880c div.sk-parallel-item {display: flex;flex-direction: column;position: relative;background-color: white;}#sk-41effcfe-5c0c-4e59-b88e-801af0fd880c div.sk-parallel-item:first-child::after {align-self: flex-end;width: 50%;}#sk-41effcfe-5c0c-4e59-b88e-801af0fd880c div.sk-parallel-item:last-child::after {align-self: flex-start;width: 50%;}#sk-41effcfe-5c0c-4e59-b88e-801af0fd880c div.sk-parallel-item:only-child::after {width: 0;}#sk-41effcfe-5c0c-4e59-b88e-801af0fd880c div.sk-dashed-wrapped {border: 1px dashed gray;margin: 0.2em;box-sizing: border-box;padding-bottom: 0.1em;background-color: white;position: relative;}#sk-41effcfe-5c0c-4e59-b88e-801af0fd880c div.sk-label label {font-family: monospace;font-weight: bold;background-color: white;display: inline-block;line-height: 1.2em;}#sk-41effcfe-5c0c-4e59-b88e-801af0fd880c div.sk-label-container {position: relative;z-index: 2;text-align: center;}#sk-41effcfe-5c0c-4e59-b88e-801af0fd880c div.sk-container {display: inline-block;position: relative;}</style><div id=\"sk-41effcfe-5c0c-4e59-b88e-801af0fd880c\" class\"sk-top-container\"><div class=\"sk-container\"><div class=\"sk-item sk-dashed-wrapped\"><div class=\"sk-label-container\"><div class=\"sk-label sk-toggleable\"><input class=\"sk-toggleable__control sk-hidden--visually\" id=\"2396b35f-7802-4f82-b165-bcc63a055264\" type=\"checkbox\" ><label class=\"sk-toggleable__label\" for=\"2396b35f-7802-4f82-b165-bcc63a055264\">Pipeline</label><div class=\"sk-toggleable__content\"><pre>Pipeline(steps=[('data_preprocessing',\n",
       "                 ColumnTransformer(transformers=[('numerical_pre',\n",
       "                                                  Pipeline(steps=[('num_scaler',\n",
       "                                                                   MinMaxScaler())]),\n",
       "                                                  ['time', 'rating']),\n",
       "                                                 ('text_pre_0',\n",
       "                                                  Pipeline(steps=[('text_vect_0',\n",
       "                                                                   CountVectorizer(binary=True,\n",
       "                                                                                   max_features=50))]),\n",
       "                                                  'summary'),\n",
       "                                                 ('text_pre_1',\n",
       "                                                  Pipeline(steps=[('text_vect_1',\n",
       "                                                                   CountVectorizer(binary=True,\n",
       "                                                                                   max_features=150))]),\n",
       "                                                  'reviewText')])),\n",
       "                ('lr', LinearRegression())])</pre></div></div></div><div class=\"sk-serial\"><div class=\"sk-item sk-dashed-wrapped\"><div class=\"sk-label-container\"><div class=\"sk-label sk-toggleable\"><input class=\"sk-toggleable__control sk-hidden--visually\" id=\"73de30d0-959e-47b1-9b55-654de478823c\" type=\"checkbox\" ><label class=\"sk-toggleable__label\" for=\"73de30d0-959e-47b1-9b55-654de478823c\">data_preprocessing: ColumnTransformer</label><div class=\"sk-toggleable__content\"><pre>ColumnTransformer(transformers=[('numerical_pre',\n",
       "                                 Pipeline(steps=[('num_scaler',\n",
       "                                                  MinMaxScaler())]),\n",
       "                                 ['time', 'rating']),\n",
       "                                ('text_pre_0',\n",
       "                                 Pipeline(steps=[('text_vect_0',\n",
       "                                                  CountVectorizer(binary=True,\n",
       "                                                                  max_features=50))]),\n",
       "                                 'summary'),\n",
       "                                ('text_pre_1',\n",
       "                                 Pipeline(steps=[('text_vect_1',\n",
       "                                                  CountVectorizer(binary=True,\n",
       "                                                                  max_features=150))]),\n",
       "                                 'reviewText')])</pre></div></div></div><div class=\"sk-parallel\"><div class=\"sk-parallel-item\"><div class=\"sk-item\"><div class=\"sk-label-container\"><div class=\"sk-label sk-toggleable\"><input class=\"sk-toggleable__control sk-hidden--visually\" id=\"7d044425-c9fc-479b-891c-5006a763dd85\" type=\"checkbox\" ><label class=\"sk-toggleable__label\" for=\"7d044425-c9fc-479b-891c-5006a763dd85\">numerical_pre</label><div class=\"sk-toggleable__content\"><pre>['time', 'rating']</pre></div></div></div><div class=\"sk-serial\"><div class=\"sk-item\"><div class=\"sk-serial\"><div class=\"sk-item\"><div class=\"sk-estimator sk-toggleable\"><input class=\"sk-toggleable__control sk-hidden--visually\" id=\"3189aad3-22a6-41e4-9087-e4053cebfab8\" type=\"checkbox\" ><label class=\"sk-toggleable__label\" for=\"3189aad3-22a6-41e4-9087-e4053cebfab8\">MinMaxScaler</label><div class=\"sk-toggleable__content\"><pre>MinMaxScaler()</pre></div></div></div></div></div></div></div></div><div class=\"sk-parallel-item\"><div class=\"sk-item\"><div class=\"sk-label-container\"><div class=\"sk-label sk-toggleable\"><input class=\"sk-toggleable__control sk-hidden--visually\" id=\"1e25988b-24d7-4293-9083-18e05bd1d831\" type=\"checkbox\" ><label class=\"sk-toggleable__label\" for=\"1e25988b-24d7-4293-9083-18e05bd1d831\">text_pre_0</label><div class=\"sk-toggleable__content\"><pre>summary</pre></div></div></div><div class=\"sk-serial\"><div class=\"sk-item\"><div class=\"sk-serial\"><div class=\"sk-item\"><div class=\"sk-estimator sk-toggleable\"><input class=\"sk-toggleable__control sk-hidden--visually\" id=\"1e3632a3-e736-436a-b4a9-32eca6b21e83\" type=\"checkbox\" ><label class=\"sk-toggleable__label\" for=\"1e3632a3-e736-436a-b4a9-32eca6b21e83\">CountVectorizer</label><div class=\"sk-toggleable__content\"><pre>CountVectorizer(binary=True, max_features=50)</pre></div></div></div></div></div></div></div></div><div class=\"sk-parallel-item\"><div class=\"sk-item\"><div class=\"sk-label-container\"><div class=\"sk-label sk-toggleable\"><input class=\"sk-toggleable__control sk-hidden--visually\" id=\"a247e0fe-24e9-4e9e-acfe-c4af75d031dc\" type=\"checkbox\" ><label class=\"sk-toggleable__label\" for=\"a247e0fe-24e9-4e9e-acfe-c4af75d031dc\">text_pre_1</label><div class=\"sk-toggleable__content\"><pre>reviewText</pre></div></div></div><div class=\"sk-serial\"><div class=\"sk-item\"><div class=\"sk-serial\"><div class=\"sk-item\"><div class=\"sk-estimator sk-toggleable\"><input class=\"sk-toggleable__control sk-hidden--visually\" id=\"96390e5a-1b50-480e-9473-7a278840f308\" type=\"checkbox\" ><label class=\"sk-toggleable__label\" for=\"96390e5a-1b50-480e-9473-7a278840f308\">CountVectorizer</label><div class=\"sk-toggleable__content\"><pre>CountVectorizer(binary=True, max_features=150)</pre></div></div></div></div></div></div></div></div></div></div><div class=\"sk-item\"><div class=\"sk-estimator sk-toggleable\"><input class=\"sk-toggleable__control sk-hidden--visually\" id=\"8011c78c-980e-4d3d-9f20-c723d8588367\" type=\"checkbox\" ><label class=\"sk-toggleable__label\" for=\"8011c78c-980e-4d3d-9f20-c723d8588367\">LinearRegression</label><div class=\"sk-toggleable__content\"><pre>LinearRegression()</pre></div></div></div></div></div></div></div>"
      ],
      "text/plain": [
       "Pipeline(steps=[('data_preprocessing',\n",
       "                 ColumnTransformer(transformers=[('numerical_pre',\n",
       "                                                  Pipeline(steps=[('num_scaler',\n",
       "                                                                   MinMaxScaler())]),\n",
       "                                                  ['time', 'rating']),\n",
       "                                                 ('text_pre_0',\n",
       "                                                  Pipeline(steps=[('text_vect_0',\n",
       "                                                                   CountVectorizer(binary=True,\n",
       "                                                                                   max_features=50))]),\n",
       "                                                  'summary'),\n",
       "                                                 ('text_pre_1',\n",
       "                                                  Pipeline(steps=[('text_vect_1',\n",
       "                                                                   CountVectorizer(binary=True,\n",
       "                                                                                   max_features=150))]),\n",
       "                                                  'reviewText')])),\n",
       "                ('lr', LinearRegression())])"
      ]
     },
     "execution_count": 12,
     "metadata": {},
     "output_type": "execute_result"
    }
   ],
   "source": [
    "from sklearn.impute import SimpleImputer\n",
    "from sklearn.preprocessing import MinMaxScaler\n",
    "from sklearn.feature_extraction.text import CountVectorizer\n",
    "from sklearn.pipeline import Pipeline\n",
    "from sklearn.compose import ColumnTransformer\n",
    "from sklearn.linear_model import LinearRegression\n",
    "\n",
    "### COLUMN_TRANSFORMER ###\n",
    "##########################\n",
    "\n",
    "# Preprocess the numerical features\n",
    "numerical_processor = Pipeline([\n",
    "    ('num_scaler', MinMaxScaler())\n",
    "])\n",
    "# Preprocess 1st text feature\n",
    "text_processor_0 = Pipeline([\n",
    "    ('text_vect_0', CountVectorizer(binary=True, max_features=50))\n",
    "])\n",
    "\n",
    "# Preprocess 2nd text feature (larger vocabulary)\n",
    "text_precessor_1 = Pipeline([\n",
    "    ('text_vect_1', CountVectorizer(binary=True, max_features=150))\n",
    "])\n",
    "\n",
    "# Combine all data preprocessors from above (add more, if you choose to define more!)\n",
    "# For each processor/step specify: a name, the actual process, and finally the features to be processed\n",
    "data_preprocessor = ColumnTransformer([\n",
    "    ('numerical_pre', numerical_processor, numerical_features),\n",
    "    ('text_pre_0', text_processor_0, text_features[0]),\n",
    "    ('text_pre_1', text_precessor_1, text_features[1])\n",
    "]) \n",
    "\n",
    "### PIPELINE ###\n",
    "################\n",
    "\n",
    "# Pipeline desired all data transformers, along with an estimator at the end\n",
    "# Later you can set/reach the parameters using the names issued - for hyperparameter tuning, for example\n",
    "pipeline = Pipeline([\n",
    "    ('data_preprocessing', data_preprocessor),\n",
    "    ('lr', LinearRegression())\n",
    "])\n",
    "\n",
    "# Visualize the pipeline\n",
    "# This will come in handy especially when building more complex pipelines, stringing together multiple preprocessing steps\n",
    "from sklearn import set_config\n",
    "set_config(display='diagram')\n",
    "pipeline"
   ]
  },
  {
   "cell_type": "markdown",
   "metadata": {},
   "source": [
    "## 6. <a name=\"6\">Train the regressor</a>\n",
    "(<a href=\"#0\">Go to top</a>)\n",
    "\n",
    "We train our model by using __.fit()__ on our training dataset. "
   ]
  },
  {
   "cell_type": "code",
   "execution_count": 13,
   "metadata": {},
   "outputs": [
    {
     "data": {
      "text/html": [
       "<style>#sk-aab4d0e6-fba3-48c7-ae3c-db33a44a16c2 {color: black;background-color: white;}#sk-aab4d0e6-fba3-48c7-ae3c-db33a44a16c2 pre{padding: 0;}#sk-aab4d0e6-fba3-48c7-ae3c-db33a44a16c2 div.sk-toggleable {background-color: white;}#sk-aab4d0e6-fba3-48c7-ae3c-db33a44a16c2 label.sk-toggleable__label {cursor: pointer;display: block;width: 100%;margin-bottom: 0;padding: 0.2em 0.3em;box-sizing: border-box;text-align: center;}#sk-aab4d0e6-fba3-48c7-ae3c-db33a44a16c2 div.sk-toggleable__content {max-height: 0;max-width: 0;overflow: hidden;text-align: left;background-color: #f0f8ff;}#sk-aab4d0e6-fba3-48c7-ae3c-db33a44a16c2 div.sk-toggleable__content pre {margin: 0.2em;color: black;border-radius: 0.25em;background-color: #f0f8ff;}#sk-aab4d0e6-fba3-48c7-ae3c-db33a44a16c2 input.sk-toggleable__control:checked~div.sk-toggleable__content {max-height: 200px;max-width: 100%;overflow: auto;}#sk-aab4d0e6-fba3-48c7-ae3c-db33a44a16c2 div.sk-estimator input.sk-toggleable__control:checked~label.sk-toggleable__label {background-color: #d4ebff;}#sk-aab4d0e6-fba3-48c7-ae3c-db33a44a16c2 div.sk-label input.sk-toggleable__control:checked~label.sk-toggleable__label {background-color: #d4ebff;}#sk-aab4d0e6-fba3-48c7-ae3c-db33a44a16c2 input.sk-hidden--visually {border: 0;clip: rect(1px 1px 1px 1px);clip: rect(1px, 1px, 1px, 1px);height: 1px;margin: -1px;overflow: hidden;padding: 0;position: absolute;width: 1px;}#sk-aab4d0e6-fba3-48c7-ae3c-db33a44a16c2 div.sk-estimator {font-family: monospace;background-color: #f0f8ff;margin: 0.25em 0.25em;border: 1px dotted black;border-radius: 0.25em;box-sizing: border-box;}#sk-aab4d0e6-fba3-48c7-ae3c-db33a44a16c2 div.sk-estimator:hover {background-color: #d4ebff;}#sk-aab4d0e6-fba3-48c7-ae3c-db33a44a16c2 div.sk-parallel-item::after {content: \"\";width: 100%;border-bottom: 1px solid gray;flex-grow: 1;}#sk-aab4d0e6-fba3-48c7-ae3c-db33a44a16c2 div.sk-label:hover label.sk-toggleable__label {background-color: #d4ebff;}#sk-aab4d0e6-fba3-48c7-ae3c-db33a44a16c2 div.sk-serial::before {content: \"\";position: absolute;border-left: 1px solid gray;box-sizing: border-box;top: 2em;bottom: 0;left: 50%;}#sk-aab4d0e6-fba3-48c7-ae3c-db33a44a16c2 div.sk-serial {display: flex;flex-direction: column;align-items: center;background-color: white;}#sk-aab4d0e6-fba3-48c7-ae3c-db33a44a16c2 div.sk-item {z-index: 1;}#sk-aab4d0e6-fba3-48c7-ae3c-db33a44a16c2 div.sk-parallel {display: flex;align-items: stretch;justify-content: center;background-color: white;}#sk-aab4d0e6-fba3-48c7-ae3c-db33a44a16c2 div.sk-parallel-item {display: flex;flex-direction: column;position: relative;background-color: white;}#sk-aab4d0e6-fba3-48c7-ae3c-db33a44a16c2 div.sk-parallel-item:first-child::after {align-self: flex-end;width: 50%;}#sk-aab4d0e6-fba3-48c7-ae3c-db33a44a16c2 div.sk-parallel-item:last-child::after {align-self: flex-start;width: 50%;}#sk-aab4d0e6-fba3-48c7-ae3c-db33a44a16c2 div.sk-parallel-item:only-child::after {width: 0;}#sk-aab4d0e6-fba3-48c7-ae3c-db33a44a16c2 div.sk-dashed-wrapped {border: 1px dashed gray;margin: 0.2em;box-sizing: border-box;padding-bottom: 0.1em;background-color: white;position: relative;}#sk-aab4d0e6-fba3-48c7-ae3c-db33a44a16c2 div.sk-label label {font-family: monospace;font-weight: bold;background-color: white;display: inline-block;line-height: 1.2em;}#sk-aab4d0e6-fba3-48c7-ae3c-db33a44a16c2 div.sk-label-container {position: relative;z-index: 2;text-align: center;}#sk-aab4d0e6-fba3-48c7-ae3c-db33a44a16c2 div.sk-container {display: inline-block;position: relative;}</style><div id=\"sk-aab4d0e6-fba3-48c7-ae3c-db33a44a16c2\" class\"sk-top-container\"><div class=\"sk-container\"><div class=\"sk-item sk-dashed-wrapped\"><div class=\"sk-label-container\"><div class=\"sk-label sk-toggleable\"><input class=\"sk-toggleable__control sk-hidden--visually\" id=\"829287ff-93ef-49c6-906c-73cde1a98ae2\" type=\"checkbox\" ><label class=\"sk-toggleable__label\" for=\"829287ff-93ef-49c6-906c-73cde1a98ae2\">Pipeline</label><div class=\"sk-toggleable__content\"><pre>Pipeline(steps=[('data_preprocessing',\n",
       "                 ColumnTransformer(transformers=[('numerical_pre',\n",
       "                                                  Pipeline(steps=[('num_scaler',\n",
       "                                                                   MinMaxScaler())]),\n",
       "                                                  ['time', 'rating']),\n",
       "                                                 ('text_pre_0',\n",
       "                                                  Pipeline(steps=[('text_vect_0',\n",
       "                                                                   CountVectorizer(binary=True,\n",
       "                                                                                   max_features=50))]),\n",
       "                                                  'summary'),\n",
       "                                                 ('text_pre_1',\n",
       "                                                  Pipeline(steps=[('text_vect_1',\n",
       "                                                                   CountVectorizer(binary=True,\n",
       "                                                                                   max_features=150))]),\n",
       "                                                  'reviewText')])),\n",
       "                ('lr', LinearRegression())])</pre></div></div></div><div class=\"sk-serial\"><div class=\"sk-item sk-dashed-wrapped\"><div class=\"sk-label-container\"><div class=\"sk-label sk-toggleable\"><input class=\"sk-toggleable__control sk-hidden--visually\" id=\"a7be9697-3426-4c03-a929-3d7a121e379e\" type=\"checkbox\" ><label class=\"sk-toggleable__label\" for=\"a7be9697-3426-4c03-a929-3d7a121e379e\">data_preprocessing: ColumnTransformer</label><div class=\"sk-toggleable__content\"><pre>ColumnTransformer(transformers=[('numerical_pre',\n",
       "                                 Pipeline(steps=[('num_scaler',\n",
       "                                                  MinMaxScaler())]),\n",
       "                                 ['time', 'rating']),\n",
       "                                ('text_pre_0',\n",
       "                                 Pipeline(steps=[('text_vect_0',\n",
       "                                                  CountVectorizer(binary=True,\n",
       "                                                                  max_features=50))]),\n",
       "                                 'summary'),\n",
       "                                ('text_pre_1',\n",
       "                                 Pipeline(steps=[('text_vect_1',\n",
       "                                                  CountVectorizer(binary=True,\n",
       "                                                                  max_features=150))]),\n",
       "                                 'reviewText')])</pre></div></div></div><div class=\"sk-parallel\"><div class=\"sk-parallel-item\"><div class=\"sk-item\"><div class=\"sk-label-container\"><div class=\"sk-label sk-toggleable\"><input class=\"sk-toggleable__control sk-hidden--visually\" id=\"008edd72-2786-4bab-8696-dad5950e4424\" type=\"checkbox\" ><label class=\"sk-toggleable__label\" for=\"008edd72-2786-4bab-8696-dad5950e4424\">numerical_pre</label><div class=\"sk-toggleable__content\"><pre>['time', 'rating']</pre></div></div></div><div class=\"sk-serial\"><div class=\"sk-item\"><div class=\"sk-serial\"><div class=\"sk-item\"><div class=\"sk-estimator sk-toggleable\"><input class=\"sk-toggleable__control sk-hidden--visually\" id=\"001d0676-07a4-402a-9234-2009b5262037\" type=\"checkbox\" ><label class=\"sk-toggleable__label\" for=\"001d0676-07a4-402a-9234-2009b5262037\">MinMaxScaler</label><div class=\"sk-toggleable__content\"><pre>MinMaxScaler()</pre></div></div></div></div></div></div></div></div><div class=\"sk-parallel-item\"><div class=\"sk-item\"><div class=\"sk-label-container\"><div class=\"sk-label sk-toggleable\"><input class=\"sk-toggleable__control sk-hidden--visually\" id=\"33c82036-b8db-4ffb-8f89-f245300e2e6a\" type=\"checkbox\" ><label class=\"sk-toggleable__label\" for=\"33c82036-b8db-4ffb-8f89-f245300e2e6a\">text_pre_0</label><div class=\"sk-toggleable__content\"><pre>summary</pre></div></div></div><div class=\"sk-serial\"><div class=\"sk-item\"><div class=\"sk-serial\"><div class=\"sk-item\"><div class=\"sk-estimator sk-toggleable\"><input class=\"sk-toggleable__control sk-hidden--visually\" id=\"2ad3f85e-91c8-4f4d-8616-950cbad56a7c\" type=\"checkbox\" ><label class=\"sk-toggleable__label\" for=\"2ad3f85e-91c8-4f4d-8616-950cbad56a7c\">CountVectorizer</label><div class=\"sk-toggleable__content\"><pre>CountVectorizer(binary=True, max_features=50)</pre></div></div></div></div></div></div></div></div><div class=\"sk-parallel-item\"><div class=\"sk-item\"><div class=\"sk-label-container\"><div class=\"sk-label sk-toggleable\"><input class=\"sk-toggleable__control sk-hidden--visually\" id=\"d4586883-dc6c-4930-910f-a8f9e942f2ec\" type=\"checkbox\" ><label class=\"sk-toggleable__label\" for=\"d4586883-dc6c-4930-910f-a8f9e942f2ec\">text_pre_1</label><div class=\"sk-toggleable__content\"><pre>reviewText</pre></div></div></div><div class=\"sk-serial\"><div class=\"sk-item\"><div class=\"sk-serial\"><div class=\"sk-item\"><div class=\"sk-estimator sk-toggleable\"><input class=\"sk-toggleable__control sk-hidden--visually\" id=\"f763d5ff-cdb5-4763-ad7a-e75588797717\" type=\"checkbox\" ><label class=\"sk-toggleable__label\" for=\"f763d5ff-cdb5-4763-ad7a-e75588797717\">CountVectorizer</label><div class=\"sk-toggleable__content\"><pre>CountVectorizer(binary=True, max_features=150)</pre></div></div></div></div></div></div></div></div></div></div><div class=\"sk-item\"><div class=\"sk-estimator sk-toggleable\"><input class=\"sk-toggleable__control sk-hidden--visually\" id=\"4aa67d66-999a-45c3-ad45-d6ab3445a387\" type=\"checkbox\" ><label class=\"sk-toggleable__label\" for=\"4aa67d66-999a-45c3-ad45-d6ab3445a387\">LinearRegression</label><div class=\"sk-toggleable__content\"><pre>LinearRegression()</pre></div></div></div></div></div></div></div>"
      ],
      "text/plain": [
       "Pipeline(steps=[('data_preprocessing',\n",
       "                 ColumnTransformer(transformers=[('numerical_pre',\n",
       "                                                  Pipeline(steps=[('num_scaler',\n",
       "                                                                   MinMaxScaler())]),\n",
       "                                                  ['time', 'rating']),\n",
       "                                                 ('text_pre_0',\n",
       "                                                  Pipeline(steps=[('text_vect_0',\n",
       "                                                                   CountVectorizer(binary=True,\n",
       "                                                                                   max_features=50))]),\n",
       "                                                  'summary'),\n",
       "                                                 ('text_pre_1',\n",
       "                                                  Pipeline(steps=[('text_vect_1',\n",
       "                                                                   CountVectorizer(binary=True,\n",
       "                                                                                   max_features=150))]),\n",
       "                                                  'reviewText')])),\n",
       "                ('lr', LinearRegression())])"
      ]
     },
     "execution_count": 13,
     "metadata": {},
     "output_type": "execute_result"
    }
   ],
   "source": [
    "# Fit the Pipeline to training data\n",
    "pipeline.fit(X_train[model_features], y_train.values)"
   ]
  },
  {
   "cell_type": "markdown",
   "metadata": {},
   "source": [
    "## 7. <a name=\"7\">Fitting Linear Regression models and checking the validation performance</a>\n",
    "(<a href=\"#0\">Go to top</a>)"
   ]
  },
  {
   "cell_type": "markdown",
   "metadata": {},
   "source": [
    "#### 7.1  LinearRegression\n",
    "Let's first fit __LinearRegression__ from Sklearn library, and check the performance on the validation dataset. Using the __coef___ atribute, we can also print the learned weights of the model.\n",
    "\n",
    "Find more details on __LinearRegression__ here:\n",
    "https://scikit-learn.org/stable/modules/generated/sklearn.linear_model.LinearRegression.html"
   ]
  },
  {
   "cell_type": "code",
   "execution_count": 14,
   "metadata": {},
   "outputs": [
    {
     "name": "stdout",
     "output_type": "stream",
     "text": [
      "LinearRegression on Validation: Mean_squared_error: 0.591002,  R_square_score: 0.356090\n",
      "LinearRegression model weights: \n",
      " [-1.74577245e+00 -4.16698687e-01  6.55478174e-02 -2.35272572e-02\n",
      "  8.61182127e-02 -1.01365637e-02  7.93570885e-02  1.00553642e-01\n",
      "  5.29775786e-02  2.05177306e-02  5.73231439e-02  2.22065173e-01\n",
      "  9.93801548e-02 -1.37718534e-02 -4.06337511e-02 -1.06054883e-04\n",
      "  4.40533071e-02  9.05416147e-02  2.17865276e-02  1.26157728e-02\n",
      " -2.25996286e-02  8.55590357e-03  2.45830778e-02 -2.33422349e-02\n",
      " -3.30934186e-02 -9.93257505e-03 -1.51382180e-01 -3.76458280e-02\n",
      "  6.49464629e-02 -1.17080185e-02  1.08904272e-02  1.58619445e-02\n",
      " -4.96701334e-02 -5.60326950e-02  5.79966938e-02 -8.74212057e-02\n",
      "  1.68585031e-02 -4.05426984e-02  2.67941219e-02  4.66072229e-02\n",
      " -9.31192603e-03  1.16266404e-01  2.62079456e-02 -2.14293896e-02\n",
      " -1.19377754e-02 -4.02070681e-02 -5.45584216e-02 -1.20253347e-01\n",
      "  1.28724729e-02  5.21390327e-02 -1.36309595e-02  8.86498665e-02\n",
      "  5.41902920e-03 -4.70436888e-02  9.00102468e-02  6.50375232e-02\n",
      "  6.40223894e-02 -4.80327957e-02  5.21240250e-02  2.77750161e-02\n",
      " -1.33438312e-02  2.49353798e-02  1.52699223e-02  4.96212221e-03\n",
      "  2.69376105e-02  4.02836936e-02  3.99165499e-02  1.09039050e-01\n",
      "  6.67883496e-02  8.41275293e-02  8.75899231e-02 -1.99724995e-02\n",
      " -4.10796866e-02  1.20798268e-01  1.03692487e-01  2.50603336e-02\n",
      "  5.49377970e-02  1.33950856e-02  9.01979581e-04  8.62118143e-03\n",
      "  1.03024577e-02  1.76771995e-02  1.58155812e-02  3.10950868e-02\n",
      "  8.68790255e-02  2.62198671e-02  6.90473550e-02  9.47749993e-03\n",
      " -5.32945485e-03 -2.52715115e-02  7.86192972e-02  4.59838495e-02\n",
      "  2.21096130e-02  1.36522034e-02 -1.70641677e-02  1.81244930e-02\n",
      "  2.28458934e-02  3.49103566e-02  1.92654817e-03 -7.10766150e-03\n",
      "  5.47011178e-03 -1.32658411e-02  1.70604965e-02  6.10174803e-02\n",
      " -5.82946796e-03  6.08734262e-02  4.66457328e-03  1.25992752e-01\n",
      "  2.07872674e-02  3.18138405e-02  1.37395063e-01  3.64373767e-04\n",
      "  2.82336817e-03 -1.89572238e-02  2.59829963e-02  1.17414118e-01\n",
      "  1.52375065e-02 -3.92035226e-02  1.76682399e-02  3.49442445e-02\n",
      "  1.10496408e-01 -2.62613187e-02  1.74393238e-02 -2.61449206e-02\n",
      "  2.30374327e-02  5.66552988e-02  5.47469446e-02  2.12444398e-02\n",
      "  7.42135055e-02  5.54878973e-02  2.96623463e-02  2.43045314e-02\n",
      "  1.24599844e-02 -3.66277943e-02  5.10799421e-02 -9.19428786e-02\n",
      "  2.57354227e-02 -1.59824777e-02  4.48772558e-02 -4.43224360e-02\n",
      " -8.88171353e-04  1.04419286e-02  4.80140060e-02  6.02080371e-02\n",
      "  3.17706976e-02  9.05653502e-03 -3.71850149e-02  6.11202184e-03\n",
      "  5.73254434e-02  6.00431446e-02  3.66191916e-02  1.28896608e-02\n",
      " -8.39158527e-02  9.64004706e-02  6.07978365e-02  1.50602673e-02\n",
      "  2.91248915e-02  1.49544463e-02  1.21161585e-01  3.57840402e-02\n",
      "  1.68270865e-02 -3.11508824e-02  1.75286152e-02  4.75853971e-02\n",
      " -3.34273486e-02 -5.20172412e-02  1.90868556e-02 -2.86795766e-02\n",
      "  9.26338953e-03  4.65485025e-02  3.57844395e-02 -3.84311993e-02\n",
      "  1.98141003e-02 -7.98409358e-02  3.81529777e-05  4.44686663e-02\n",
      " -1.08130110e-02 -7.87799827e-03 -1.15672535e-02 -1.11204028e-01\n",
      "  1.54504380e-02  8.73568838e-03  2.00025578e-02 -2.14059519e-02\n",
      "  4.16409890e-03  3.86761353e-02  1.37955457e-02  6.06026752e-02\n",
      "  7.20052778e-03  3.61108644e-02  6.47835514e-02  5.97964566e-02\n",
      "  5.21137466e-02  4.88785632e-02  1.04477639e-02  2.96484629e-02\n",
      "  5.59791086e-02  1.21384510e-01  1.10460612e-03  4.91267080e-03\n",
      " -2.28299381e-02  1.79474729e-02]\n"
     ]
    }
   ],
   "source": [
    "from sklearn.linear_model import LinearRegression\n",
    "from sklearn.metrics import r2_score, mean_squared_error\n",
    "\n",
    "lrRegressor_val_predictions = pipeline.predict(X_val[model_features])\n",
    "print(\"LinearRegression on Validation: Mean_squared_error: %f,  R_square_score: %f\" % \\\n",
    "      (mean_squared_error(y_val, lrRegressor_val_predictions),r2_score(y_val, lrRegressor_val_predictions)))\n",
    "print(\"LinearRegression model weights: \\n\", pipeline.named_steps['lr'].coef_)"
   ]
  },
  {
   "cell_type": "markdown",
   "metadata": {},
   "source": [
    "#### 7.2  Ridge (Linear Regression with L2 regularization)\n",
    "Let's now fit __Ridge__ from Sklearn library, and check the performance on the validation dataset.\n",
    "\n",
    "Find more details on __Ridge__ here:\n",
    "https://scikit-learn.org/stable/modules/generated/sklearn.linear_model.Ridge.html\n",
    "\n",
    "To improve the performance of a LinearRegression model, __Ridge__ is tuning model complexity by adding a $L_2$ penalty score for complexity to the model cost function:\n",
    "\n",
    "$$\\text{C}_{\\text{regularized}}(\\textbf{w}) = \\text{C}(\\textbf{w}) +  {alpha}∗||\\textbf{w}||_2^2$$\n",
    "\n",
    "where $\\textbf{w}$ is the model weights vector, and $||\\textbf{w}||_2^2 = \\sum \\textbf{w}_i^2$.\n",
    "\n",
    "The strength of the regularization is controlled by the regularizer parameter, alpha: smaller value of $alpha$, weaker regularization; larger value of $alpha$, stronger regularization. \n"
   ]
  },
  {
   "cell_type": "code",
   "execution_count": 15,
   "metadata": {},
   "outputs": [
    {
     "name": "stdout",
     "output_type": "stream",
     "text": [
      "Ridge on Validation: Mean_squared_error: 0.589703,  R_square_score: 0.357506\n",
      "Ridge model weights: \n",
      " [-1.62648110e+00 -4.04075644e-01  5.80557757e-02 -2.25636947e-02\n",
      "  7.87482041e-02 -1.08408884e-02  5.89964006e-02  8.22755594e-02\n",
      "  4.35479821e-02  1.30581543e-02  4.91961795e-02  1.56936889e-01\n",
      "  3.43296010e-02 -1.37063773e-02 -4.37537157e-02 -4.01048154e-03\n",
      "  3.66349903e-02  7.18718418e-02  1.44836822e-02  4.29792296e-03\n",
      " -2.19736663e-02 -2.03125162e-03  8.37412218e-03 -2.42635868e-02\n",
      " -3.31533547e-02 -9.63722722e-03 -1.21652249e-01 -7.14130178e-02\n",
      "  5.41043796e-02 -8.08631094e-03  8.39712475e-03  1.22999924e-02\n",
      " -4.82867822e-02 -5.34971907e-02  5.08610531e-02 -4.54662319e-02\n",
      "  1.89932392e-02 -4.23438608e-02 -2.90376496e-02  3.36977853e-02\n",
      " -1.18760009e-02  9.45778069e-02 -2.20726097e-02 -1.74709900e-02\n",
      " -1.45632303e-02 -3.34924260e-02 -5.03278842e-02 -8.39406571e-02\n",
      "  6.64752437e-03  4.44583112e-02 -1.77632641e-02  7.80702639e-02\n",
      "  4.98619637e-03 -4.81644139e-02  8.46609570e-02  6.29490752e-02\n",
      "  6.53558931e-02 -4.79519235e-02  4.66433644e-02  2.79260898e-02\n",
      " -1.17915686e-02  2.64316957e-02  1.68758127e-02  8.04773336e-03\n",
      "  2.67643938e-02  4.32296584e-02  3.79184155e-02  1.03875030e-01\n",
      "  6.48357942e-02  8.21669386e-02  8.55332902e-02 -2.02193870e-02\n",
      " -3.95197901e-02  1.17338934e-01  1.00697579e-01  2.55922677e-02\n",
      "  5.28365566e-02  9.44983877e-03  2.13388834e-03  1.13246469e-02\n",
      "  1.36689923e-02  1.70363736e-02  1.53388197e-02  3.29434950e-02\n",
      "  8.30510510e-02  2.52851769e-02  6.92655362e-02  9.37849587e-03\n",
      " -3.58953563e-03 -2.37880312e-02  7.88248064e-02  4.21840010e-02\n",
      "  2.37050086e-02  1.15275207e-02 -3.24187090e-03  1.97335457e-02\n",
      "  2.37246506e-02  3.48613830e-02  2.80380588e-03 -6.25240952e-03\n",
      "  6.42961038e-03 -1.03504296e-02  1.88887868e-02  5.96956202e-02\n",
      " -2.95516125e-03  5.95962235e-02  6.51183400e-03  1.21428900e-01\n",
      "  2.30241344e-02  3.34878031e-02  1.31798196e-01 -3.64866838e-03\n",
      "  2.67775821e-04 -1.68284696e-02  2.52665686e-02  1.15848518e-01\n",
      "  1.62309543e-02 -3.64512125e-02  1.72896361e-02  3.14378598e-02\n",
      "  1.09529804e-01 -2.43802548e-02  1.57169990e-02 -2.33809346e-02\n",
      "  2.31341380e-02  5.76974351e-02  5.61114749e-02  2.06972721e-02\n",
      "  7.36261592e-02  5.79005468e-02  2.92353541e-02  2.45612139e-02\n",
      "  1.17473999e-02 -3.42095541e-02  5.20024892e-02 -8.62665423e-02\n",
      "  2.71795373e-02 -1.43993951e-02  4.69055758e-02 -4.23749483e-02\n",
      " -2.64704207e-03  8.23533649e-03  4.55170462e-02  5.83996591e-02\n",
      "  3.43422081e-02  9.14336039e-03 -3.29638572e-02  1.13216573e-02\n",
      "  6.09960332e-02  6.05944118e-02  3.62557771e-02  1.21577584e-02\n",
      " -7.89349462e-02  9.35790504e-02  5.98848508e-02  1.67470140e-02\n",
      "  2.97532391e-02  1.61094093e-02  1.19441531e-01  3.65129232e-02\n",
      "  1.82383010e-02 -2.86518816e-02  1.81486954e-02  4.66738124e-02\n",
      " -3.11932380e-02 -4.58664563e-02  1.90771464e-02 -2.53090037e-02\n",
      "  1.05515292e-02  4.50891818e-02  4.03294919e-02 -3.69298257e-02\n",
      "  2.00707274e-02 -7.39313648e-02  1.03965225e-03  4.79822189e-02\n",
      " -1.19910457e-02 -2.21304112e-03 -9.23335884e-03 -1.07738449e-01\n",
      "  1.39509834e-02  1.07846348e-02  2.24640135e-02 -1.94260444e-02\n",
      "  5.16239325e-03  3.91615649e-02  1.28146122e-02  6.08837279e-02\n",
      "  7.94490444e-03  3.74530436e-02  6.42903235e-02  6.08386427e-02\n",
      "  5.20728686e-02  4.94222204e-02  1.14817109e-02  2.69587578e-02\n",
      "  5.45910806e-02  1.16336260e-01  6.03319286e-04  7.30462337e-03\n",
      " -2.08417042e-02  1.56767673e-02]\n"
     ]
    }
   ],
   "source": [
    "from sklearn.linear_model import Ridge\n",
    "from sklearn.metrics import r2_score, mean_squared_error\n",
    "\n",
    "# Let's update the pipeline with Ridge regression model\n",
    "ridge_pipeline = Pipeline([\n",
    "    ('data_preprocessing', data_preprocessor),\n",
    "    ('ridge', Ridge(alpha = 100))\n",
    "])\n",
    "\n",
    "ridge_pipeline.fit(X_train[model_features], y_train.values)\n",
    "ridgeRegressor_val_predictions = ridge_pipeline.predict(X_val[model_features])\n",
    "\n",
    "print(\"Ridge on Validation: Mean_squared_error: %f,  R_square_score: %f\" % \\\n",
    "      (mean_squared_error(y_val, ridgeRegressor_val_predictions),r2_score(y_val, ridgeRegressor_val_predictions)))\n",
    "\n",
    "print(\"Ridge model weights: \\n\", ridge_pipeline.named_steps['ridge'].coef_)"
   ]
  },
  {
   "cell_type": "markdown",
   "metadata": {},
   "source": [
    "#### 7.3 LASSO (Linear Regression with L1 regularization)\n",
    "Let's also fit __Lasso__ from Sklearn library, and check the performance on the validation dataset.\n",
    "\n",
    "Find more details on __Lasso__ here:\n",
    "https://scikit-learn.org/stable/modules/generated/sklearn.linear_model.Lasso.html\n",
    "\n",
    "__Lasso__ is tuning model complexity by adding a $L_1$ penalty score for complexity to the model cost function:\n",
    "\n",
    "$$\\text{C}_{\\text{regularized}}(\\textbf{w}) = \\text{C}(\\textbf{w}) +  alpha∗||\\textbf{w}||_1$$\n",
    "\n",
    "where $\\textbf{w}$ is the model weights vector, and $||\\textbf{w}||_1 = \\sum |\\textbf{w}_i|$. \n",
    "\n",
    "Again, the strength of the regularization is controlled by the regularizer parameter, $alpha$. Due to the geometry of $L_1$ norm, with __Lasso__, some of the weights will shrink all the way to 0, leading to sparsity - some of the features are not contributing to the model afterall!"
   ]
  },
  {
   "cell_type": "code",
   "execution_count": 16,
   "metadata": {},
   "outputs": [
    {
     "name": "stdout",
     "output_type": "stream",
     "text": [
      "Lasso on Validation: Mean_squared_error: 0.589867,  R_square_score: 0.357327\n",
      "Lasso model weights: \n",
      " [-1.72010524e+00 -3.89067686e-01  2.58213525e-02 -0.00000000e+00\n",
      "  3.82842552e-02 -0.00000000e+00  0.00000000e+00  0.00000000e+00\n",
      "  0.00000000e+00  0.00000000e+00  1.06602376e-02  1.26472385e-01\n",
      "  0.00000000e+00 -0.00000000e+00 -2.50955076e-02  0.00000000e+00\n",
      "  0.00000000e+00  0.00000000e+00  0.00000000e+00  0.00000000e+00\n",
      " -0.00000000e+00 -0.00000000e+00 -0.00000000e+00 -0.00000000e+00\n",
      " -0.00000000e+00 -0.00000000e+00 -4.63960564e-02 -5.02315491e-02\n",
      "  0.00000000e+00 -0.00000000e+00  0.00000000e+00  0.00000000e+00\n",
      " -0.00000000e+00 -0.00000000e+00  3.47943828e-02 -1.61006740e-02\n",
      "  0.00000000e+00 -7.44345517e-03 -0.00000000e+00  0.00000000e+00\n",
      " -0.00000000e+00  1.95457533e-02 -0.00000000e+00 -0.00000000e+00\n",
      "  0.00000000e+00 -0.00000000e+00 -0.00000000e+00 -0.00000000e+00\n",
      " -0.00000000e+00  0.00000000e+00 -5.88222939e-05  2.42462224e-02\n",
      "  0.00000000e+00 -1.67083722e-02  7.65288954e-02  5.11191702e-02\n",
      "  6.52495708e-02 -1.95841027e-02  4.24640009e-02  1.94354445e-02\n",
      " -0.00000000e+00  2.31689366e-02  6.60345613e-03  0.00000000e+00\n",
      "  7.77241315e-03  4.24802208e-02  2.46611963e-02  9.84988824e-02\n",
      "  5.66360446e-02  7.04583867e-02  7.39390006e-02 -7.30202686e-03\n",
      " -2.01568144e-02  1.09070226e-01  9.85161084e-02  1.89173069e-02\n",
      "  4.21733593e-02  8.92224900e-03  0.00000000e+00  1.71690041e-03\n",
      "  1.12690153e-02  8.37400874e-03  0.00000000e+00  2.08424501e-02\n",
      "  6.58613271e-02  1.11684319e-02  6.50926378e-02  0.00000000e+00\n",
      "  0.00000000e+00 -0.00000000e+00  7.75635511e-02  1.81639732e-02\n",
      "  1.34094779e-02  3.47083919e-03  0.00000000e+00  1.94450618e-02\n",
      "  1.64302217e-02  2.08545783e-02  0.00000000e+00 -0.00000000e+00\n",
      "  4.76631063e-04 -0.00000000e+00  1.11247950e-02  4.88585581e-02\n",
      "  0.00000000e+00  4.50304949e-02  0.00000000e+00  1.18703397e-01\n",
      "  0.00000000e+00  3.08937134e-02  1.23558636e-01  0.00000000e+00\n",
      "  0.00000000e+00 -0.00000000e+00  1.16569677e-02  1.21335603e-01\n",
      "  1.45310173e-02 -5.73789112e-03  0.00000000e+00  1.61575418e-02\n",
      "  1.09974422e-01 -0.00000000e+00  5.62051077e-03 -4.01496300e-03\n",
      "  7.70560592e-03  5.84355530e-02  5.64992818e-02  4.38075213e-03\n",
      "  6.32725981e-02  4.04038476e-02  1.22287629e-02  2.22709234e-02\n",
      "  1.04258533e-02 -1.31483697e-02  4.90841487e-02 -7.81193766e-02\n",
      "  2.65567658e-02 -0.00000000e+00  4.76621958e-02 -7.68826444e-03\n",
      "  0.00000000e+00  0.00000000e+00  2.78708595e-02  4.61145064e-02\n",
      "  4.89654813e-03  7.44021251e-03 -2.00508423e-02  9.89654553e-03\n",
      "  6.13162205e-02  5.69293636e-02  1.80026670e-02  0.00000000e+00\n",
      " -6.68203206e-02  8.53132296e-02  5.07280820e-02  1.31730549e-02\n",
      "  2.11212109e-02  0.00000000e+00  1.17546023e-01  2.52114748e-02\n",
      "  7.19393639e-03 -4.51436030e-05  1.42525486e-02  4.03626273e-02\n",
      " -8.38373569e-03 -6.87175976e-03  4.08641734e-03 -0.00000000e+00\n",
      "  0.00000000e+00  3.92851230e-02  4.45392213e-02 -5.89714208e-05\n",
      "  1.65714427e-02 -3.69897761e-02  0.00000000e+00  5.00988888e-02\n",
      " -0.00000000e+00  0.00000000e+00  0.00000000e+00 -9.13432006e-02\n",
      "  0.00000000e+00  4.31028874e-03  1.26817405e-02 -2.24943717e-03\n",
      "  4.04191830e-03  3.34928099e-02  2.29938781e-03  5.26626213e-02\n",
      "  4.47070643e-03  3.24783959e-02  6.23245733e-02  5.60383137e-02\n",
      "  5.44973737e-02  4.95496624e-02  7.21334713e-03  2.96171512e-02\n",
      "  4.54341406e-02  1.06924613e-01 -0.00000000e+00  0.00000000e+00\n",
      " -5.10833926e-03  1.40971226e-02]\n"
     ]
    }
   ],
   "source": [
    "from sklearn.linear_model import Lasso\n",
    "from sklearn.metrics import r2_score, mean_squared_error\n",
    "\n",
    "# Let's update the pipeline with Lasso regression model\n",
    "lasso_pipeline = Pipeline([\n",
    "    ('data_preprocessing', data_preprocessor),\n",
    "    ('lasso', Lasso(alpha = 0.001))\n",
    "])\n",
    "\n",
    "lasso_pipeline.fit(X_train[model_features], y_train.values)\n",
    "lassoRegressor_val_predictions = lasso_pipeline.predict(X_val[model_features])\n",
    "\n",
    "print(\"Lasso on Validation: Mean_squared_error: %f,  R_square_score: %f\" % \\\n",
    "      (mean_squared_error(y_val, lassoRegressor_val_predictions),r2_score(y_val, lassoRegressor_val_predictions)))\n",
    "\n",
    "print(\"Lasso model weights: \\n\", lasso_pipeline.named_steps['lasso'].coef_)"
   ]
  },
  {
   "cell_type": "markdown",
   "metadata": {},
   "source": [
    "#### 7.4 ElasticNet (Linear Regression with L2 and L1 regularization)\n",
    "Let's finally try __ElasticNet__ from Sklearn library, and check the performance on the validation dataset.\n",
    "\n",
    "Find more details on __ElasticNet__ here:\n",
    "https://scikit-learn.org/stable/modules/generated/sklearn.linear_model.ElasticNet.html\n",
    "\n",
    "__ElasticNet__ is tuning model complexity by adding both $L_2$ and $L_1$ penalty scores for complexity to the model's cost function:\n",
    "\n",
    "$$\\text{C}_{\\text{regularized}}(\\textbf{w}) = \\text{C}(\\textbf{w}) +  0.5*alpha∗(1-\\textit{l1}_{ratio})||\\textbf{w}||_2^2 + alpha∗\\textit{l1}_{ratio}∗||\\textbf{w}||_1$$\n",
    "\n",
    "and using two parameters, $alpha$ and $\\textit{l1}_{ratio}$, to control the strength of the regularization."
   ]
  },
  {
   "cell_type": "code",
   "execution_count": 17,
   "metadata": {},
   "outputs": [
    {
     "name": "stdout",
     "output_type": "stream",
     "text": [
      "ElasticNet on Validation: Mean_squared_error: 0.589963,  R_square_score: 0.357222\n",
      "ElasticNet model weights: \n",
      " [-1.68706874e+00 -4.07625447e-01  5.80533276e-02 -1.74342339e-02\n",
      "  7.71012102e-02 -2.79938007e-03  6.08704201e-02  8.27085819e-02\n",
      "  4.01079987e-02  1.22164446e-02  4.90111408e-02  1.81185231e-01\n",
      "  5.72731714e-02 -7.48911322e-03 -4.03361893e-02 -4.30131224e-04\n",
      "  3.32676913e-02  7.24489929e-02  1.04312914e-02  1.44020260e-03\n",
      " -1.70751670e-02  0.00000000e+00  5.69117077e-03 -1.75438933e-02\n",
      " -2.71578678e-02 -7.12566653e-03 -1.26970793e-01 -5.45150508e-02\n",
      "  5.15288749e-02 -8.76079762e-04  7.65163810e-03  9.88670210e-03\n",
      " -4.33266719e-02 -4.74613861e-02  5.27279477e-02 -6.00927840e-02\n",
      "  1.05449510e-02 -4.03282619e-02 -0.00000000e+00  3.02110416e-02\n",
      " -2.58696608e-03  9.72705366e-02 -0.00000000e+00 -1.08439478e-02\n",
      " -8.05392460e-03 -2.82054308e-02 -4.79513248e-02 -8.53745513e-02\n",
      "  0.00000000e+00  4.13017601e-02 -1.32683702e-02  7.47598512e-02\n",
      "  4.29318642e-03 -4.45466901e-02  8.62029311e-02  6.26287563e-02\n",
      "  6.45280064e-02 -4.50540665e-02  4.86399069e-02  2.68667074e-02\n",
      " -1.01189203e-02  2.55678660e-02  1.50411873e-02  5.94743167e-03\n",
      "  2.45497805e-02  4.18197492e-02  3.75863429e-02  1.05350785e-01\n",
      "  6.45827819e-02  8.16920678e-02  8.50396766e-02 -1.92542247e-02\n",
      " -3.84084998e-02  1.18160062e-01  1.01825789e-01  2.45545932e-02\n",
      "  5.25886285e-02  1.15784649e-02  1.22055403e-03  9.17429902e-03\n",
      "  1.19036314e-02  1.64724437e-02  1.35701623e-02  3.11118328e-02\n",
      "  8.30514230e-02  2.43230082e-02  6.87413774e-02  8.40801281e-03\n",
      " -1.89335613e-03 -2.18277179e-02  7.88095533e-02  4.11053130e-02\n",
      "  2.18727044e-02  1.17358428e-02 -5.38738308e-03  1.87305169e-02\n",
      "  2.24699570e-02  3.31072597e-02  1.69661089e-03 -4.62130160e-03\n",
      "  5.04998495e-03 -8.68897055e-03  1.68907133e-02  5.91045780e-02\n",
      " -7.87592543e-04  5.86171776e-02  4.09090917e-03  1.22948260e-01\n",
      "  1.93750677e-02  3.23713804e-02  1.33235522e-01 -0.00000000e+00\n",
      "  1.04567821e-04 -1.52113462e-02  2.39688365e-02  1.17479237e-01\n",
      "  1.60226689e-02 -3.45103379e-02  1.46060847e-02  3.13436287e-02\n",
      "  1.10006644e-01 -2.29315833e-02  1.60635679e-02 -2.33524240e-02\n",
      "  2.13945444e-02  5.73501143e-02  5.54829406e-02  1.90147288e-02\n",
      "  7.28260875e-02  5.60818827e-02  2.76391306e-02  2.42511949e-02\n",
      "  1.15196184e-02 -3.36649539e-02  5.10161063e-02 -8.89813950e-02\n",
      "  2.64829788e-02 -1.25957025e-02  4.62400475e-02 -3.97579749e-02\n",
      " -0.00000000e+00  7.90135047e-03  4.52666170e-02  5.78268289e-02\n",
      "  2.84180954e-02  8.85493041e-03 -3.37988175e-02  8.80560276e-03\n",
      "  5.99676159e-02  5.96939271e-02  3.44039817e-02  1.12371157e-02\n",
      " -8.01106811e-02  9.35775293e-02  5.93942119e-02  1.54218302e-02\n",
      "  2.84324048e-02  1.35352644e-02  1.19857160e-01  3.49082498e-02\n",
      "  1.61413198e-02 -2.68365149e-02  1.74494864e-02  4.60901761e-02\n",
      " -3.02599073e-02 -4.46047674e-02  1.73595678e-02 -2.36046871e-02\n",
      "  7.97216178e-03  4.48052587e-02  3.89272497e-02 -3.40282621e-02\n",
      "  1.97509694e-02 -7.30542845e-02  0.00000000e+00  4.74082231e-02\n",
      " -7.51778123e-03 -2.05099807e-03 -7.61479018e-03 -1.07341257e-01\n",
      "  1.23865483e-02  9.08048512e-03  2.03503967e-02 -1.88313074e-02\n",
      "  4.77047920e-03  3.84286106e-02  1.19681889e-02  5.90752754e-02\n",
      "  7.18757654e-03  3.60911593e-02  6.44898529e-02  5.95977797e-02\n",
      "  5.22282033e-02  4.88821127e-02  1.09551351e-02  2.82955014e-02\n",
      "  5.41002158e-02  1.17644956e-01  0.00000000e+00  4.00313384e-03\n",
      " -2.03658410e-02  1.64129324e-02]\n"
     ]
    }
   ],
   "source": [
    "from sklearn.linear_model import ElasticNet\n",
    "from sklearn.metrics import r2_score, mean_squared_error\n",
    "\n",
    "# Let's update the pipeline with ElasticNet regression model\n",
    "elastic_net_pipeline = Pipeline([\n",
    "    ('data_preprocessing', data_preprocessor),\n",
    "    ('elastic_net', ElasticNet(alpha = 0.001, l1_ratio = 0.1))\n",
    "])\n",
    "\n",
    "elastic_net_pipeline.fit(X_train[model_features], y_train.values)\n",
    "enRegressor_val_predictions = elastic_net_pipeline.predict(X_val[model_features])\n",
    "\n",
    "print(\"ElasticNet on Validation: Mean_squared_error: %f,  R_square_score: %f\" % \\\n",
    "      (mean_squared_error(y_val, enRegressor_val_predictions),r2_score(y_val, enRegressor_val_predictions)))\n",
    "\n",
    "print(\"ElasticNet model weights: \\n\", elastic_net_pipeline.named_steps['elastic_net'].coef_)"
   ]
  },
  {
   "cell_type": "markdown",
   "metadata": {},
   "source": [
    "#### 7.5 Weights shrinkage and sparsity\n",
    "\n",
    "Let's compare weights ranges for all these regression models:"
   ]
  },
  {
   "cell_type": "code",
   "execution_count": 18,
   "metadata": {},
   "outputs": [
    {
     "name": "stdout",
     "output_type": "stream",
     "text": [
      "LinearRegression weights range: \n",
      " 3.81529777377731e-05 1.745772453800346\n",
      "Ridge weights range: \n",
      " 0.000267775820848034 1.6264811011115818\n",
      "Lasso weights range: \n",
      " 0.0 1.7201052442656493\n",
      "ElasticNet weights range: \n",
      " 0.0 1.6870687401639743\n"
     ]
    }
   ],
   "source": [
    "import numpy as np\n",
    "\n",
    "lin_regression_coeffs = pipeline.named_steps['lr'].coef_\n",
    "ridge_regression_coeffs = ridge_pipeline.named_steps['ridge'].coef_\n",
    "lasso_regression_coeffs = lasso_pipeline.named_steps['lasso'].coef_\n",
    "enet_regression_coeffs = elastic_net_pipeline.named_steps['elastic_net'].coef_\n",
    "\n",
    "print('LinearRegression weights range: \\n', np.abs(lin_regression_coeffs).min(), np.abs(lin_regression_coeffs).max())\n",
    "print('Ridge weights range: \\n', np.abs(ridge_regression_coeffs).min(), np.abs(ridge_regression_coeffs).max())\n",
    "print('Lasso weights range: \\n', np.abs(lasso_regression_coeffs).min(), np.abs(lasso_regression_coeffs).max())\n",
    "print('ElasticNet weights range: \\n', np.abs(enet_regression_coeffs).min(), np.abs(enet_regression_coeffs).max())"
   ]
  },
  {
   "cell_type": "markdown",
   "metadata": {},
   "source": [
    "The weights of all regularized models are lowered compared to __LinearRegression__, with some of the weights of __Lasso__ and __ElasticNet__ shrinked all the way to 0. Using sparsity, the __Lasso__ regularization reduces the number of features, performing feature selection."
   ]
  },
  {
   "cell_type": "markdown",
   "metadata": {},
   "source": [
    "## 8. <a name=\"7\">Ideas for improvement</a>\n",
    "(<a href=\"#0\">Go to top</a>)\n",
    "\n",
    "One way to improve the performance of a linear regression model is to try different strenghts of regularization, here controlled by the parameters $alpha$ and $\\textit{l1}_{ratio}$."
   ]
  }
 ],
 "metadata": {
  "kernelspec": {
   "display_name": "conda_python3",
   "language": "python",
   "name": "conda_python3"
  },
  "language_info": {
   "codemirror_mode": {
    "name": "ipython",
    "version": 3
   },
   "file_extension": ".py",
   "mimetype": "text/x-python",
   "name": "python",
   "nbconvert_exporter": "python",
   "pygments_lexer": "ipython3",
   "version": "3.6.13"
  }
 },
 "nbformat": 4,
 "nbformat_minor": 2
}
